{
 "cells": [
  {
   "cell_type": "code",
   "execution_count": 24,
   "id": "500e4d4f-0fca-41c1-9b21-d539b25f4d74",
   "metadata": {},
   "outputs": [
    {
     "name": "stdout",
     "output_type": "stream",
     "text": [
      "Reading package lists... Done\n",
      "Building dependency tree       \n",
      "Reading state information... Done\n",
      "wget is already the newest version (1.19.4-1ubuntu2.2).\n",
      "You might want to run 'apt --fix-broken install' to correct these.\n",
      "The following packages have unmet dependencies:\n",
      " google-chrome-stable : Depends: fonts-liberation but it is not going to be installed\n",
      "                        Depends: libgtk-3-0 (>= 3.9.10) but it is not going to be installed\n",
      "                        Depends: libxkbcommon0 (>= 0.4.1) but it is not going to be installed\n",
      "                        Depends: xdg-utils (>= 1.0.2) but it is not going to be installed\n",
      "                        Recommends: libu2f-udev but it is not going to be installed\n",
      "                        Recommends: libvulkan1 but it is not going to be installed\n",
      "W: Target Packages (main/binary-amd64/Packages) is configured multiple times in /etc/apt/sources.list.d/google.list:1 and /etc/apt/sources.list.d/google.list:2\n",
      "W: Target Packages (main/binary-all/Packages) is configured multiple times in /etc/apt/sources.list.d/google.list:1 and /etc/apt/sources.list.d/google.list:2\n",
      "W: Target Packages (main/binary-amd64/Packages) is configured multiple times in /etc/apt/sources.list.d/google.list:1 and /etc/apt/sources.list.d/google.list:3\n",
      "W: Target Packages (main/binary-all/Packages) is configured multiple times in /etc/apt/sources.list.d/google.list:1 and /etc/apt/sources.list.d/google.list:3\n",
      "E: Unmet dependencies. Try 'apt --fix-broken install' with no packages (or specify a solution).\n",
      "E: gnupg, gnupg2 and gnupg1 do not seem to be installed, but one of them is required for this operation\n"
     ]
    }
   ],
   "source": [
    "!apt-get install wget -y\n",
    "!wget -q -O - https://dl-ssl.google.com/linux/linux_signing_key.pub | apt-key add -\n",
    "!sh -c 'echo \"deb [arch=amd64] http://dl.google.com/linux/chrome/deb/ stable main\" >> /etc/apt/sources.list.d/google.list'\n",
    "!sudo apt-get update -y\n",
    "!sudo apt-get install google-chrome-stable -y\n",
    "!google-chrome --version"
   ]
  },
  {
   "cell_type": "code",
   "execution_count": 25,
   "id": "f5bc5dbb-973d-42ec-8f9f-eeb1f37b3a4d",
   "metadata": {},
   "outputs": [
    {
     "name": "stdout",
     "output_type": "stream",
     "text": [
      "Get:1 http://dl.google.com/linux/chrome/deb stable InRelease [1811 B]\n",
      "Err:1 http://dl.google.com/linux/chrome/deb stable InRelease                   \n",
      "  The following signatures couldn't be verified because the public key is not available: NO_PUBKEY 78BD65473CB3BD13\n",
      "Hit:2 http://archive.ubuntu.com/ubuntu bionic InRelease                        \n",
      "Get:3 http://security.ubuntu.com/ubuntu bionic-security InRelease [88.7 kB]    \n",
      "Get:4 http://archive.ubuntu.com/ubuntu bionic-updates InRelease [88.7 kB]\n",
      "Get:5 http://archive.ubuntu.com/ubuntu bionic-backports InRelease [74.6 kB]\n",
      "Reading package lists... Done       \n",
      "W: GPG error: http://dl.google.com/linux/chrome/deb stable InRelease: The following signatures couldn't be verified because the public key is not available: NO_PUBKEY 78BD65473CB3BD13\n",
      "E: The repository 'http://dl.google.com/linux/chrome/deb stable InRelease' is not signed.\n",
      "N: Updating from such a repository can't be done securely, and is therefore disabled by default.\n",
      "N: See apt-secure(8) manpage for repository creation and user configuration details.\n",
      "W: Target Packages (main/binary-amd64/Packages) is configured multiple times in /etc/apt/sources.list.d/google.list:1 and /etc/apt/sources.list.d/google.list:2\n",
      "W: Target Packages (main/binary-all/Packages) is configured multiple times in /etc/apt/sources.list.d/google.list:1 and /etc/apt/sources.list.d/google.list:2\n",
      "W: Target Packages (main/binary-amd64/Packages) is configured multiple times in /etc/apt/sources.list.d/google.list:1 and /etc/apt/sources.list.d/google.list:3\n",
      "W: Target Packages (main/binary-all/Packages) is configured multiple times in /etc/apt/sources.list.d/google.list:1 and /etc/apt/sources.list.d/google.list:3\n",
      "W: Target Packages (main/binary-amd64/Packages) is configured multiple times in /etc/apt/sources.list.d/google.list:1 and /etc/apt/sources.list.d/google.list:4\n",
      "W: Target Packages (main/binary-all/Packages) is configured multiple times in /etc/apt/sources.list.d/google.list:1 and /etc/apt/sources.list.d/google.list:4\n",
      "Reading package lists... Done\n",
      "Building dependency tree       \n",
      "Reading state information... Done\n",
      "google-chrome-stable is already the newest version (90.0.4430.72-1).\n",
      "You might want to run 'apt --fix-broken install' to correct these.\n",
      "The following packages have unmet dependencies:\n",
      " google-chrome-stable : Depends: fonts-liberation but it is not going to be installed\n",
      "                        Depends: libgtk-3-0 (>= 3.9.10) but it is not going to be installed\n",
      "                        Depends: libxkbcommon0 (>= 0.4.1) but it is not going to be installed\n",
      "                        Depends: xdg-utils (>= 1.0.2) but it is not going to be installed\n",
      "                        Recommends: libu2f-udev but it is not going to be installed\n",
      "                        Recommends: libvulkan1 but it is not going to be installed\n",
      "W: Target Packages (main/binary-amd64/Packages) is configured multiple times in /etc/apt/sources.list.d/google.list:1 and /etc/apt/sources.list.d/google.list:2\n",
      "W: Target Packages (main/binary-all/Packages) is configured multiple times in /etc/apt/sources.list.d/google.list:1 and /etc/apt/sources.list.d/google.list:2\n",
      "W: Target Packages (main/binary-amd64/Packages) is configured multiple times in /etc/apt/sources.list.d/google.list:1 and /etc/apt/sources.list.d/google.list:3\n",
      "W: Target Packages (main/binary-all/Packages) is configured multiple times in /etc/apt/sources.list.d/google.list:1 and /etc/apt/sources.list.d/google.list:3\n",
      "W: Target Packages (main/binary-amd64/Packages) is configured multiple times in /etc/apt/sources.list.d/google.list:1 and /etc/apt/sources.list.d/google.list:4\n",
      "W: Target Packages (main/binary-all/Packages) is configured multiple times in /etc/apt/sources.list.d/google.list:1 and /etc/apt/sources.list.d/google.list:4\n",
      "E: Unmet dependencies. Try 'apt --fix-broken install' with no packages (or specify a solution).\n",
      "/bin/sh: 1: google-chrome: not found\n"
     ]
    }
   ],
   "source": []
  },
  {
   "cell_type": "code",
   "execution_count": 6,
   "id": "fd2f47cf-9f8b-4e43-9be5-675a67feb92d",
   "metadata": {},
   "outputs": [],
   "source": [
    "!pip install selenium\n",
    "!pip install webdriver_manager\n",
    "!pip install tqdm"
   ]
  },
  {
   "cell_type": "code",
   "execution_count": 74,
   "id": "0a3c38ac-dd3a-47c3-8a75-5dc4421902c4",
   "metadata": {},
   "outputs": [],
   "source": [
    "from selenium import webdriver\n",
    "from webdriver_manager.chrome import ChromeDriverManager\n",
    "from tqdm import tqdm\n",
    "import time\n",
    "\n",
    "from math import ceil\n",
    "import time, json, os, argparse\n",
    "from copy import deepcopy\n",
    "from multiprocessing import Pool, Manager\n",
    "\n",
    "from collections import OrderedDict\n",
    "from itertools import repeat"
   ]
  },
  {
   "cell_type": "code",
   "execution_count": 43,
   "id": "ab8568bc-f17d-4f0e-a311-8272c72a5d24",
   "metadata": {},
   "outputs": [],
   "source": [
    "def init_driver():\n",
    "\n",
    "    options = webdriver.ChromeOptions()    \n",
    "    options.add_argument('headless')\n",
    "    options.add_argument('--no-sandbox')\n",
    "    options.add_argument('--disable-dev-shm-usage')\n",
    "\n",
    "    options.add_argument(\"user-agent=Mozilla/5.0 (Macintosh; Intel Mac OS X 10_12_6) AppleWebKit/537.36 (KHTML, like Gecko) Chrome/61.0.3163.100 Safari/537.36\")\n",
    "\n",
    "    driver = webdriver.Chrome(executable_path=ChromeDriverManager().install(), chrome_options=options)\n",
    "\n",
    "    driver.implicitly_wait(15)\n",
    "    driver.get('https://papago.naver.com/')\n",
    "\n",
    "    return driver"
   ]
  },
  {
   "cell_type": "code",
   "execution_count": 67,
   "id": "7e18e1d5-8615-4341-9221-a0f80e03b82d",
   "metadata": {},
   "outputs": [],
   "source": [
    "def papago_translate(corpus_number, translated, parts):\n",
    "    corpus = parts[corpus_number]\n",
    "\n",
    "    prev_result = result = ''\n",
    "    kor2oth = []\n",
    "    for idx, sentence in tqdm(enumerate(corpus)):\n",
    "        if idx % 100 == 0:\n",
    "            driver = init_driver()\n",
    "            print('driver initialized')\n",
    "\n",
    "        time_delay = 2\n",
    "        while result == prev_result and time_delay < 10:\n",
    "            if time_delay > 3:\n",
    "                print(time_delay, result.split('\\n'), sentence.split('\\n'), sep='\\n', end='\\n\\n')\n",
    "\n",
    "            result = run_trans(sentence, driver, time_delay)\n",
    "\n",
    "            time_delay += 1\n",
    "\n",
    "        prev_result = result\n",
    "            \n",
    "\n",
    "        for en, tstd in zip(sentence.split('\\n'), result.split('\\n')):\n",
    "            translated[en.strip()] = tstd.strip()\n",
    "\n",
    "    if multiprocessor > 1:\n",
    "        print(f'processor {corpus_number} completed')\n",
    "    else:\n",
    "        print('translation completed')\n",
    "    return translated"
   ]
  },
  {
   "cell_type": "code",
   "execution_count": null,
   "id": "0e48aebc-cbc3-4c68-bafe-24396602934c",
   "metadata": {},
   "outputs": [],
   "source": [
    "def kor2trans(translator,driver):\n",
    "\n",
    "    input_box = driver.find_element_by_css_selector('#sourceEditArea textarea')        \n",
    "    input_box.clear(); input_box.clear(); input_box.clear(); input_box.clear(); \n",
    "\n",
    "    input_box.send_keys(sentence)\n",
    "\n",
    "    driver.find_element_by_css_selector('#ddTargetLanguageButton').click()\n",
    "    driver.find_element_by_xpath('//*[@id=\"ddTargetLanguage\"]/div[2]/ul/li[2]').click()\n",
    "    driver.find_element_by_css_selector('#btnTranslate').click()\n",
    "\n",
    "    time.sleep(2)\n",
    "\n",
    "    result = str(driver.find_element_by_css_selector(\"#txtTarget\").text)\n",
    "\n",
    "    input_box.clear(); input_box.clear(); input_box.clear(); input_box.clear(); \n",
    "    translator.append(result)\n",
    "    \n",
    "    input_box.clear(); input_box.clear(); input_box.clear(); input_box.clear(); \n",
    "    input_box.send_keys(sentence)\n",
    "    \n",
    "    return translator"
   ]
  },
  {
   "cell_type": "code",
   "execution_count": null,
   "id": "13336682-12ee-4e95-b7d1-67e3422e6714",
   "metadata": {},
   "outputs": [],
   "source": [
    "def trans2kor(translator,driver):\n",
    "\n",
    "    input_box = driver.find_element_by_css_selector('#sourceEditArea textarea')        \n",
    "    input_box.clear(); input_box.clear(); input_box.clear(); input_box.clear(); \n",
    "\n",
    "    input_box.send_keys(sentence)\n",
    "\n",
    "    driver.find_element_by_css_selector('#ddTargetLanguageButton').click()\n",
    "    driver.find_element_by_xpath('//*[@id=\"ddTargetLanguage\"]/div[2]/ul/li[2]').click()\n",
    "    driver.find_element_by_css_selector('#btnTranslate').click()\n",
    "\n",
    "    time.sleep(2)\n",
    "\n",
    "    result = str(driver.find_element_by_css_selector(\"#txtTarget\").text)\n",
    "\n",
    "    input_box.clear(); input_box.clear(); input_box.clear(); input_box.clear(); \n",
    "    translator.append(result)\n",
    "    \n",
    "    return translator"
   ]
  },
  {
   "cell_type": "code",
   "execution_count": 75,
   "id": "268827fd-083d-43ec-b0cd-e00f4875d02a",
   "metadata": {},
   "outputs": [],
   "source": [
    "def preprocessing_dataset(dataset, label_type):\n",
    "  label = []\n",
    "  for i in dataset[8]:\n",
    "    if i == 'blind':\n",
    "      label.append(100)\n",
    "    else:\n",
    "      label.append(label_type[i])\n",
    "  out_dataset = pd.DataFrame({'sentence':dataset[1],'entity_01':dataset[2],'entity_01_start':dataset[3],'entity_01_end':dataset[4]\n",
    "                              ,'entity_02':dataset[5],'entity_02_start':dataset[6],'entity_02_end':dataset[7],'label':label,})\n",
    "  return out_dataset\n",
    "\n",
    "# tsv 파일을 불러옵니다.\n",
    "def load_data(dataset_dir):\n",
    "  # load label_type, classes\n",
    "  with open('/opt/ml/input/data/label_type.pkl', 'rb') as f:\n",
    "    label_type = pickle.load(f)\n",
    "  # load dataset\n",
    "  dataset = pd.read_csv(dataset_dir, delimiter='\\t', header=None)\n",
    "  # preprecessing dataset\n",
    "  dataset = preprocessing_dataset(dataset, label_type)\n",
    "  \n",
    "  return dataset"
   ]
  },
  {
   "cell_type": "code",
   "execution_count": 76,
   "id": "ececf249-4c0d-4eb1-b67a-159b23c8703e",
   "metadata": {},
   "outputs": [
    {
     "data": {
      "text/html": [
       "<div>\n",
       "<style scoped>\n",
       "    .dataframe tbody tr th:only-of-type {\n",
       "        vertical-align: middle;\n",
       "    }\n",
       "\n",
       "    .dataframe tbody tr th {\n",
       "        vertical-align: top;\n",
       "    }\n",
       "\n",
       "    .dataframe thead th {\n",
       "        text-align: right;\n",
       "    }\n",
       "</style>\n",
       "<table border=\"1\" class=\"dataframe\">\n",
       "  <thead>\n",
       "    <tr style=\"text-align: right;\">\n",
       "      <th></th>\n",
       "      <th>sentence</th>\n",
       "      <th>entity_01</th>\n",
       "      <th>entity_01_start</th>\n",
       "      <th>entity_01_end</th>\n",
       "      <th>entity_02</th>\n",
       "      <th>entity_02_start</th>\n",
       "      <th>entity_02_end</th>\n",
       "      <th>label</th>\n",
       "    </tr>\n",
       "  </thead>\n",
       "  <tbody>\n",
       "    <tr>\n",
       "      <th>0</th>\n",
       "      <td>영국에서 사용되는 스포츠 유틸리티 자동차의 브랜드로는 랜드로버(Land Rover)...</td>\n",
       "      <td>랜드로버</td>\n",
       "      <td>30</td>\n",
       "      <td>33</td>\n",
       "      <td>자동차</td>\n",
       "      <td>19</td>\n",
       "      <td>21</td>\n",
       "      <td>17</td>\n",
       "    </tr>\n",
       "    <tr>\n",
       "      <th>1</th>\n",
       "      <td>선거에서 민주당은 해산 전 의석인 230석에 한참 못 미치는 57석(지역구 27석,...</td>\n",
       "      <td>민주당</td>\n",
       "      <td>5</td>\n",
       "      <td>7</td>\n",
       "      <td>27석</td>\n",
       "      <td>42</td>\n",
       "      <td>44</td>\n",
       "      <td>0</td>\n",
       "    </tr>\n",
       "    <tr>\n",
       "      <th>2</th>\n",
       "      <td>유럽 축구 연맹(UEFA) 집행위원회는 2014년 1월 24일에 열린 회의를 통해 ...</td>\n",
       "      <td>유럽 축구 연맹</td>\n",
       "      <td>0</td>\n",
       "      <td>7</td>\n",
       "      <td>UEFA</td>\n",
       "      <td>9</td>\n",
       "      <td>12</td>\n",
       "      <td>6</td>\n",
       "    </tr>\n",
       "    <tr>\n",
       "      <th>3</th>\n",
       "      <td>용병 공격수 챠디의 부진과 시즌 초 활약한 강수일의 침체, 시즌 중반에 영입한 세르...</td>\n",
       "      <td>강수일</td>\n",
       "      <td>24</td>\n",
       "      <td>26</td>\n",
       "      <td>공격수</td>\n",
       "      <td>3</td>\n",
       "      <td>5</td>\n",
       "      <td>2</td>\n",
       "    </tr>\n",
       "    <tr>\n",
       "      <th>4</th>\n",
       "      <td>람캄행 왕은 1237년에서 1247년 사이 수코타이의 왕 퍼쿤 씨 인트라팃과 쓰엉 ...</td>\n",
       "      <td>람캄행</td>\n",
       "      <td>0</td>\n",
       "      <td>2</td>\n",
       "      <td>퍼쿤 씨 인트라팃</td>\n",
       "      <td>32</td>\n",
       "      <td>40</td>\n",
       "      <td>8</td>\n",
       "    </tr>\n",
       "  </tbody>\n",
       "</table>\n",
       "</div>"
      ],
      "text/plain": [
       "                                            sentence entity_01  \\\n",
       "0  영국에서 사용되는 스포츠 유틸리티 자동차의 브랜드로는 랜드로버(Land Rover)...      랜드로버   \n",
       "1  선거에서 민주당은 해산 전 의석인 230석에 한참 못 미치는 57석(지역구 27석,...       민주당   \n",
       "2  유럽 축구 연맹(UEFA) 집행위원회는 2014년 1월 24일에 열린 회의를 통해 ...  유럽 축구 연맹   \n",
       "3  용병 공격수 챠디의 부진과 시즌 초 활약한 강수일의 침체, 시즌 중반에 영입한 세르...       강수일   \n",
       "4  람캄행 왕은 1237년에서 1247년 사이 수코타이의 왕 퍼쿤 씨 인트라팃과 쓰엉 ...       람캄행   \n",
       "\n",
       "   entity_01_start  entity_01_end  entity_02  entity_02_start  entity_02_end  \\\n",
       "0               30             33        자동차               19             21   \n",
       "1                5              7        27석               42             44   \n",
       "2                0              7       UEFA                9             12   \n",
       "3               24             26        공격수                3              5   \n",
       "4                0              2  퍼쿤 씨 인트라팃               32             40   \n",
       "\n",
       "   label  \n",
       "0     17  \n",
       "1      0  \n",
       "2      6  \n",
       "3      2  \n",
       "4      8  "
      ]
     },
     "execution_count": 76,
     "metadata": {},
     "output_type": "execute_result"
    }
   ],
   "source": [
    "data = load_data(\"/opt/ml/input/data/train/train.tsv\")\n",
    "\n",
    "data.head()"
   ]
  },
  {
   "cell_type": "code",
   "execution_count": 70,
   "id": "abce6d88-c4ad-4c23-80d5-dda6b58887c1",
   "metadata": {},
   "outputs": [
    {
     "data": {
      "text/plain": [
       "0    영국에서 사용되는 스포츠 유틸리티 자동차의 브랜드로는 랜드로버(Land Rover)...\n",
       "1    선거에서 민주당은 해산 전 의석인 230석에 한참 못 미치는 57석(지역구 27석,...\n",
       "2    유럽 축구 연맹(UEFA) 집행위원회는 2014년 1월 24일에 열린 회의를 통해 ...\n",
       "3    용병 공격수 챠디의 부진과 시즌 초 활약한 강수일의 침체, 시즌 중반에 영입한 세르...\n",
       "4    람캄행 왕은 1237년에서 1247년 사이 수코타이의 왕 퍼쿤 씨 인트라팃과 쓰엉 ...\n",
       "5    이와 관련해 AFCD는 대학 소속 전문가와 세계동물보건기구(OIE)가 사람과 동물 ...\n",
       "6    신형 K5 사전계약 돌풍에 대해 기아자동차 관계자는 \"한눈에 각인될 정도의 강렬한 ...\n",
       "7    2008년 이전 팀명칭은 나고야 그램퍼스 에이트였고 에이트는 나고야 시 표장에 있는...\n",
       "8    SW융합교육원 조영주 담당교수는 “4차 산업혁명에 따라 SW역량은 전문가뿐만 아니라...\n",
       "9    김동양 NH투자증권 연구원은 “삼성SDS의 3분기 매출액은 2조6604억원, 영업이...\n",
       "Name: sentence, dtype: object"
      ]
     },
     "execution_count": 70,
     "metadata": {},
     "output_type": "execute_result"
    }
   ],
   "source": [
    "parts = data.iloc[:]['sentence']\n",
    "parts[:10]"
   ]
  },
  {
   "cell_type": "code",
   "execution_count": 78,
   "id": "225000c5-c028-4a78-961b-9db78276b867",
   "metadata": {},
   "outputs": [
    {
     "data": {
      "text/plain": [
       "'랜드로버'"
      ]
     },
     "execution_count": 78,
     "metadata": {},
     "output_type": "execute_result"
    }
   ],
   "source": [
    "parts[0][data.iloc[0]['entity_01_start']:data.iloc[0]['entity_01_end']+1]"
   ]
  },
  {
   "cell_type": "code",
   "execution_count": 79,
   "id": "58a4bcc9-fcdb-44c2-bd3b-33acbedf2a18",
   "metadata": {},
   "outputs": [
    {
     "data": {
      "text/plain": [
       "'자동차'"
      ]
     },
     "execution_count": 79,
     "metadata": {},
     "output_type": "execute_result"
    }
   ],
   "source": [
    "parts[0][data.iloc[0]['entity_02_start']:data.iloc[0]['entity_02_end']+1]"
   ]
  },
  {
   "cell_type": "code",
   "execution_count": null,
   "id": "c751898b-ca5e-433c-b7ec-4b59c883902a",
   "metadata": {},
   "outputs": [],
   "source": [
    "corpus = load_text(english_dir)\n",
    "n = len(corpus)\n",
    "print(f'You have left {n}') \n",
    "\n",
    "n = len(corpus)\n",
    "parts = [deepcopy(corpus[ceil(n/multiprocessor)*i:ceil(n/multiprocessor)*(i+1)]) for i in range(8)]\n",
    "print(len(parts))"
   ]
  },
  {
   "cell_type": "code",
   "execution_count": 71,
   "id": "139cb47f-0ff3-4b8d-8eee-f21c0b0846ac",
   "metadata": {},
   "outputs": [
    {
     "name": "stderr",
     "output_type": "stream",
     "text": [
      "0it [00:00, ?it/s]\n",
      "\n",
      "====== WebDriver manager ======\n",
      "0it [00:00, ?it/s]\n",
      "\n",
      "0it [00:00, ?it/s]====== WebDriver manager ======\n",
      "\n",
      "\n",
      "0it [00:00, ?it/s]====== WebDriver manager ======\n",
      "\n",
      "\n",
      "0it [00:00, ?it/s]====== WebDriver manager ======\n",
      "\n",
      "\n",
      "====== WebDriver manager ======\n",
      "0it [00:00, ?it/s]\n",
      "\n",
      "0it [00:00, ?it/s]====== WebDriver manager ======\n",
      "\n",
      "\n",
      "0it [00:00, ?it/s]====== WebDriver manager ======\n",
      "\n",
      "\n",
      "Current google-chrome version is 90.0.4430\n",
      "====== WebDriver manager ======\n",
      "Get LATEST driver version for 90.0.4430\n",
      "Current google-chrome version is 90.0.4430\n",
      "Get LATEST driver version for 90.0.4430\n",
      "Current google-chrome version is 90.0.4430\n",
      "Get LATEST driver version for 90.0.4430\n",
      "Current google-chrome version is 90.0.4430\n",
      "Get LATEST driver version for 90.0.4430\n",
      "Current google-chrome version is 90.0.4430\n",
      "Current google-chrome version is 90.0.4430\n",
      "Current google-chrome version is 90.0.4430\n",
      "Get LATEST driver version for 90.0.4430\n",
      "Get LATEST driver version for 90.0.4430\n",
      "Get LATEST driver version for 90.0.4430\n",
      "Current google-chrome version is 90.0.4430\n",
      "Get LATEST driver version for 90.0.4430\n",
      "Driver [/opt/ml/.wdm/drivers/chromedriver/linux64/90.0.4430.24/chromedriver] found in cache\n",
      "/opt/conda/lib/python3.7/site-packages/ipykernel_launcher.py:10: DeprecationWarning: use options instead of chrome_options\n",
      "  # Remove the CWD from sys.path while we load stuff.\n",
      "Driver [/opt/ml/.wdm/drivers/chromedriver/linux64/90.0.4430.24/chromedriver] found in cache\n",
      "Driver [/opt/ml/.wdm/drivers/chromedriver/linux64/90.0.4430.24/chromedriver] found in cache\n",
      "Driver [/opt/ml/.wdm/drivers/chromedriver/linux64/90.0.4430.24/chromedriver] found in cache\n",
      "/opt/conda/lib/python3.7/site-packages/ipykernel_launcher.py:10: DeprecationWarning: use options instead of chrome_options\n",
      "  # Remove the CWD from sys.path while we load stuff.\n",
      "Driver [/opt/ml/.wdm/drivers/chromedriver/linux64/90.0.4430.24/chromedriver] found in cache\n",
      "/opt/conda/lib/python3.7/site-packages/ipykernel_launcher.py:10: DeprecationWarning: use options instead of chrome_options\n",
      "  # Remove the CWD from sys.path while we load stuff.\n",
      "Driver [/opt/ml/.wdm/drivers/chromedriver/linux64/90.0.4430.24/chromedriver] found in cache\n",
      "/opt/conda/lib/python3.7/site-packages/ipykernel_launcher.py:10: DeprecationWarning: use options instead of chrome_options\n",
      "  # Remove the CWD from sys.path while we load stuff.\n",
      "/opt/conda/lib/python3.7/site-packages/ipykernel_launcher.py:10: DeprecationWarning: use options instead of chrome_options\n",
      "  # Remove the CWD from sys.path while we load stuff.\n",
      "/opt/conda/lib/python3.7/site-packages/ipykernel_launcher.py:10: DeprecationWarning: use options instead of chrome_options\n",
      "  # Remove the CWD from sys.path while we load stuff.\n",
      "Driver [/opt/ml/.wdm/drivers/chromedriver/linux64/90.0.4430.24/chromedriver] found in cache\n",
      "/opt/conda/lib/python3.7/site-packages/ipykernel_launcher.py:10: DeprecationWarning: use options instead of chrome_options\n",
      "  # Remove the CWD from sys.path while we load stuff.\n",
      "Driver [/opt/ml/.wdm/drivers/chromedriver/linux64/90.0.4430.24/chromedriver] found in cache\n",
      "/opt/conda/lib/python3.7/site-packages/ipykernel_launcher.py:10: DeprecationWarning: use options instead of chrome_options\n",
      "  # Remove the CWD from sys.path while we load stuff.\n"
     ]
    },
    {
     "name": "stdout",
     "output_type": "stream",
     "text": [
      "driver initialized\n"
     ]
    },
    {
     "name": "stderr",
     "output_type": "stream",
     "text": [
      "0it [00:02, ?it/s]\n"
     ]
    },
    {
     "name": "stdout",
     "output_type": "stream",
     "text": [
      "driver initialized\n"
     ]
    },
    {
     "name": "stderr",
     "output_type": "stream",
     "text": [
      "0it [00:02, ?it/s]\n"
     ]
    },
    {
     "name": "stdout",
     "output_type": "stream",
     "text": [
      "driver initialized\n"
     ]
    },
    {
     "name": "stderr",
     "output_type": "stream",
     "text": [
      "0it [00:03, ?it/s]\n"
     ]
    },
    {
     "name": "stdout",
     "output_type": "stream",
     "text": [
      "driver initializeddriver initialized\n",
      "\n"
     ]
    },
    {
     "name": "stderr",
     "output_type": "stream",
     "text": [
      "0it [00:03, ?it/s]\n",
      "0it [00:03, ?it/s]\n"
     ]
    },
    {
     "name": "stdout",
     "output_type": "stream",
     "text": [
      "driver initialized\n",
      "driver initialized"
     ]
    },
    {
     "name": "stderr",
     "output_type": "stream",
     "text": [
      "0it [00:03, ?it/s]\n"
     ]
    },
    {
     "name": "stdout",
     "output_type": "stream",
     "text": [
      "\n"
     ]
    },
    {
     "name": "stderr",
     "output_type": "stream",
     "text": [
      "0it [00:03, ?it/s]\n"
     ]
    },
    {
     "name": "stdout",
     "output_type": "stream",
     "text": [
      "driver initialized\n"
     ]
    },
    {
     "name": "stderr",
     "output_type": "stream",
     "text": [
      "0it [00:03, ?it/s]\n"
     ]
    },
    {
     "ename": "NameError",
     "evalue": "name 'run_trans' is not defined",
     "output_type": "error",
     "traceback": [
      "\u001b[0;31m---------------------------------------------------------------------------\u001b[0m",
      "\u001b[0;31mRemoteTraceback\u001b[0m                           Traceback (most recent call last)",
      "\u001b[0;31mRemoteTraceback\u001b[0m: \n\"\"\"\nTraceback (most recent call last):\n  File \"/opt/conda/lib/python3.7/multiprocessing/pool.py\", line 121, in worker\n    result = (True, func(*args, **kwds))\n  File \"/opt/conda/lib/python3.7/multiprocessing/pool.py\", line 47, in starmapstar\n    return list(itertools.starmap(args[0], args[1]))\n  File \"<ipython-input-67-e447916297c5>\", line 16, in papago_translate\n    result = run_trans(sentence, driver, time_delay)\nNameError: name 'run_trans' is not defined\n\"\"\"",
      "\nThe above exception was the direct cause of the following exception:\n",
      "\u001b[0;31mNameError\u001b[0m                                 Traceback (most recent call last)",
      "\u001b[0;32m<ipython-input-71-ee302a2d0216>\u001b[0m in \u001b[0;36m<module>\u001b[0;34m\u001b[0m\n\u001b[1;32m      2\u001b[0m \u001b[0mmanager\u001b[0m \u001b[0;34m=\u001b[0m \u001b[0mManager\u001b[0m\u001b[0;34m(\u001b[0m\u001b[0;34m)\u001b[0m\u001b[0;34m\u001b[0m\u001b[0;34m\u001b[0m\u001b[0m\n\u001b[1;32m      3\u001b[0m \u001b[0mtranslated\u001b[0m \u001b[0;34m=\u001b[0m \u001b[0mmanager\u001b[0m\u001b[0;34m.\u001b[0m\u001b[0mdict\u001b[0m\u001b[0;34m(\u001b[0m\u001b[0;34m)\u001b[0m\u001b[0;34m\u001b[0m\u001b[0;34m\u001b[0m\u001b[0m\n\u001b[0;32m----> 4\u001b[0;31m \u001b[0mpool\u001b[0m\u001b[0;34m.\u001b[0m\u001b[0mstarmap\u001b[0m\u001b[0;34m(\u001b[0m\u001b[0mpapago_translate\u001b[0m\u001b[0;34m,\u001b[0m \u001b[0mzip\u001b[0m\u001b[0;34m(\u001b[0m\u001b[0mrange\u001b[0m\u001b[0;34m(\u001b[0m\u001b[0;36m8\u001b[0m\u001b[0;34m)\u001b[0m\u001b[0;34m,\u001b[0m \u001b[0mrepeat\u001b[0m\u001b[0;34m(\u001b[0m\u001b[0mtranslated\u001b[0m\u001b[0;34m)\u001b[0m\u001b[0;34m,\u001b[0m \u001b[0mparts\u001b[0m\u001b[0;34m)\u001b[0m\u001b[0;34m)\u001b[0m\u001b[0;34m\u001b[0m\u001b[0;34m\u001b[0m\u001b[0m\n\u001b[0m\u001b[1;32m      5\u001b[0m \u001b[0mpool\u001b[0m\u001b[0;34m.\u001b[0m\u001b[0mclose\u001b[0m\u001b[0;34m(\u001b[0m\u001b[0;34m)\u001b[0m\u001b[0;34m\u001b[0m\u001b[0;34m\u001b[0m\u001b[0m\n\u001b[1;32m      6\u001b[0m \u001b[0mpool\u001b[0m\u001b[0;34m.\u001b[0m\u001b[0mjoin\u001b[0m\u001b[0;34m(\u001b[0m\u001b[0;34m)\u001b[0m\u001b[0;34m\u001b[0m\u001b[0;34m\u001b[0m\u001b[0m\n",
      "\u001b[0;32m/opt/conda/lib/python3.7/multiprocessing/pool.py\u001b[0m in \u001b[0;36mstarmap\u001b[0;34m(self, func, iterable, chunksize)\u001b[0m\n\u001b[1;32m    274\u001b[0m         \u001b[0;31m`\u001b[0m\u001b[0mfunc\u001b[0m\u001b[0;31m`\u001b[0m \u001b[0;32mand\u001b[0m \u001b[0;34m(\u001b[0m\u001b[0ma\u001b[0m\u001b[0;34m,\u001b[0m \u001b[0mb\u001b[0m\u001b[0;34m)\u001b[0m \u001b[0mbecomes\u001b[0m \u001b[0mfunc\u001b[0m\u001b[0;34m(\u001b[0m\u001b[0ma\u001b[0m\u001b[0;34m,\u001b[0m \u001b[0mb\u001b[0m\u001b[0;34m)\u001b[0m\u001b[0;34m.\u001b[0m\u001b[0;34m\u001b[0m\u001b[0;34m\u001b[0m\u001b[0m\n\u001b[1;32m    275\u001b[0m         '''\n\u001b[0;32m--> 276\u001b[0;31m         \u001b[0;32mreturn\u001b[0m \u001b[0mself\u001b[0m\u001b[0;34m.\u001b[0m\u001b[0m_map_async\u001b[0m\u001b[0;34m(\u001b[0m\u001b[0mfunc\u001b[0m\u001b[0;34m,\u001b[0m \u001b[0miterable\u001b[0m\u001b[0;34m,\u001b[0m \u001b[0mstarmapstar\u001b[0m\u001b[0;34m,\u001b[0m \u001b[0mchunksize\u001b[0m\u001b[0;34m)\u001b[0m\u001b[0;34m.\u001b[0m\u001b[0mget\u001b[0m\u001b[0;34m(\u001b[0m\u001b[0;34m)\u001b[0m\u001b[0;34m\u001b[0m\u001b[0;34m\u001b[0m\u001b[0m\n\u001b[0m\u001b[1;32m    277\u001b[0m \u001b[0;34m\u001b[0m\u001b[0m\n\u001b[1;32m    278\u001b[0m     def starmap_async(self, func, iterable, chunksize=None, callback=None,\n",
      "\u001b[0;32m/opt/conda/lib/python3.7/multiprocessing/pool.py\u001b[0m in \u001b[0;36mget\u001b[0;34m(self, timeout)\u001b[0m\n\u001b[1;32m    655\u001b[0m             \u001b[0;32mreturn\u001b[0m \u001b[0mself\u001b[0m\u001b[0;34m.\u001b[0m\u001b[0m_value\u001b[0m\u001b[0;34m\u001b[0m\u001b[0;34m\u001b[0m\u001b[0m\n\u001b[1;32m    656\u001b[0m         \u001b[0;32melse\u001b[0m\u001b[0;34m:\u001b[0m\u001b[0;34m\u001b[0m\u001b[0;34m\u001b[0m\u001b[0m\n\u001b[0;32m--> 657\u001b[0;31m             \u001b[0;32mraise\u001b[0m \u001b[0mself\u001b[0m\u001b[0;34m.\u001b[0m\u001b[0m_value\u001b[0m\u001b[0;34m\u001b[0m\u001b[0;34m\u001b[0m\u001b[0m\n\u001b[0m\u001b[1;32m    658\u001b[0m \u001b[0;34m\u001b[0m\u001b[0m\n\u001b[1;32m    659\u001b[0m     \u001b[0;32mdef\u001b[0m \u001b[0m_set\u001b[0m\u001b[0;34m(\u001b[0m\u001b[0mself\u001b[0m\u001b[0;34m,\u001b[0m \u001b[0mi\u001b[0m\u001b[0;34m,\u001b[0m \u001b[0mobj\u001b[0m\u001b[0;34m)\u001b[0m\u001b[0;34m:\u001b[0m\u001b[0;34m\u001b[0m\u001b[0;34m\u001b[0m\u001b[0m\n",
      "\u001b[0;31mNameError\u001b[0m: name 'run_trans' is not defined"
     ]
    }
   ],
   "source": [
    "pool = Pool(8)\n",
    "manager = Manager()\n",
    "translated = manager.dict()\n",
    "pool.starmap(papago_translate, zip(range(8), repeat(translated), parts))\n",
    "pool.close()\n",
    "pool.join()\n",
    "\n"
   ]
  },
  {
   "cell_type": "code",
   "execution_count": null,
   "id": "11e7eab0-c25e-4bee-ba2c-0d338e18b573",
   "metadata": {},
   "outputs": [],
   "source": []
  },
  {
   "cell_type": "code",
   "execution_count": 58,
   "id": "75f63843-be62-4e56-a0de-0848c233a836",
   "metadata": {},
   "outputs": [
    {
     "name": "stderr",
     "output_type": "stream",
     "text": [
      "\n",
      "\n",
      "====== WebDriver manager ======\n",
      "Current google-chrome version is 90.0.4430\n",
      "Get LATEST driver version for 90.0.4430\n",
      "Driver [/opt/ml/.wdm/drivers/chromedriver/linux64/90.0.4430.24/chromedriver] found in cache\n",
      "/opt/conda/lib/python3.7/site-packages/ipykernel_launcher.py:10: DeprecationWarning: use options instead of chrome_options\n",
      "  # Remove the CWD from sys.path while we load stuff.\n",
      "  0%|          | 0/9000 [00:00<?, ?it/s]"
     ]
    },
    {
     "name": "stdout",
     "output_type": "stream",
     "text": [
      "driver initialized\n"
     ]
    },
    {
     "name": "stderr",
     "output_type": "stream",
     "text": [
      "  1%|          | 58/9000 [02:45<7:05:56,  2.86s/it]\n"
     ]
    },
    {
     "ename": "KeyboardInterrupt",
     "evalue": "",
     "output_type": "error",
     "traceback": [
      "\u001b[0;31m---------------------------------------------------------------------------\u001b[0m",
      "\u001b[0;31mKeyboardInterrupt\u001b[0m                         Traceback (most recent call last)",
      "\u001b[0;32m<ipython-input-58-df862a1e6689>\u001b[0m in \u001b[0;36m<module>\u001b[0;34m\u001b[0m\n\u001b[1;32m     15\u001b[0m     \u001b[0mdriver\u001b[0m\u001b[0;34m.\u001b[0m\u001b[0mfind_element_by_css_selector\u001b[0m\u001b[0;34m(\u001b[0m\u001b[0;34m'#btnTranslate'\u001b[0m\u001b[0;34m)\u001b[0m\u001b[0;34m.\u001b[0m\u001b[0mclick\u001b[0m\u001b[0;34m(\u001b[0m\u001b[0;34m)\u001b[0m\u001b[0;34m\u001b[0m\u001b[0;34m\u001b[0m\u001b[0m\n\u001b[1;32m     16\u001b[0m \u001b[0;34m\u001b[0m\u001b[0m\n\u001b[0;32m---> 17\u001b[0;31m     \u001b[0mtime\u001b[0m\u001b[0;34m.\u001b[0m\u001b[0msleep\u001b[0m\u001b[0;34m(\u001b[0m\u001b[0;36m2\u001b[0m\u001b[0;34m)\u001b[0m\u001b[0;34m\u001b[0m\u001b[0;34m\u001b[0m\u001b[0m\n\u001b[0m\u001b[1;32m     18\u001b[0m \u001b[0;34m\u001b[0m\u001b[0m\n\u001b[1;32m     19\u001b[0m     \u001b[0mresult\u001b[0m \u001b[0;34m=\u001b[0m \u001b[0mstr\u001b[0m\u001b[0;34m(\u001b[0m\u001b[0mdriver\u001b[0m\u001b[0;34m.\u001b[0m\u001b[0mfind_element_by_css_selector\u001b[0m\u001b[0;34m(\u001b[0m\u001b[0;34m\"#txtTarget\"\u001b[0m\u001b[0;34m)\u001b[0m\u001b[0;34m.\u001b[0m\u001b[0mtext\u001b[0m\u001b[0;34m)\u001b[0m\u001b[0;34m\u001b[0m\u001b[0;34m\u001b[0m\u001b[0m\n",
      "\u001b[0;31mKeyboardInterrupt\u001b[0m: "
     ]
    }
   ],
   "source": [
    "\n",
    "\n",
    "driver = init_driver()\n",
    "print('driver initialized')\n",
    "translator = []\n",
    "for sentence in tqdm(data['sentence']):\n",
    "# sentence = '무하의 애국심은 히틀러의 독일 정부가 그를의 적으로 간주한 명부에 포함할 만큼 유명했다.'\n",
    "# 무하의 애국심은 매우 유명해서 히틀러의 독일 정부는 그를 적으로 간주되는 명단에 포함시켰다.\n",
    "\n",
    "    input_box = driver.find_element_by_css_selector('#sourceEditArea textarea')        \n",
    "    input_box.clear(); input_box.clear(); input_box.clear(); input_box.clear(); \n",
    "\n",
    "    input_box.send_keys(sentence)\n",
    "\n",
    "    driver.find_element_by_css_selector('#ddTargetLanguageButton').click()\n",
    "    driver.find_element_by_xpath('//*[@id=\"ddTargetLanguage\"]/div[2]/ul/li[2]').click()\n",
    "    driver.find_element_by_css_selector('#btnTranslate').click()\n",
    "\n",
    "    time.sleep(2)\n",
    "\n",
    "    result = str(driver.find_element_by_css_selector(\"#txtTarget\").text)\n",
    "\n",
    "    input_box.clear(); input_box.clear(); input_box.clear(); input_box.clear(); \n",
    "    translator.append(result)"
   ]
  },
  {
   "cell_type": "code",
   "execution_count": 40,
   "id": "168a65b9-8330-4191-8149-d483cbd9041a",
   "metadata": {},
   "outputs": [
    {
     "name": "stderr",
     "output_type": "stream",
     "text": [
      "\n",
      "\n",
      "====== WebDriver manager ======\n",
      "Current google-chrome version is 90.0.4430\n",
      "Get LATEST driver version for 90.0.4430\n",
      "Driver [/opt/ml/.wdm/drivers/chromedriver/linux64/90.0.4430.24/chromedriver] found in cache\n",
      "/opt/conda/lib/python3.7/site-packages/ipykernel_launcher.py:10: DeprecationWarning: use options instead of chrome_options\n",
      "  # Remove the CWD from sys.path while we load stuff.\n"
     ]
    },
    {
     "name": "stdout",
     "output_type": "stream",
     "text": [
      "driver initialized\n",
      "무하의 애국심은 매우 유명해서 히틀러의 독일 정부는 그를 적으로 간주되는 명단에 포함시켰다.\n"
     ]
    }
   ],
   "source": [
    "driver = init_driver()\n",
    "print('driver initialized')\n",
    "result_tans = []\n",
    "# sentence = \"Muha's patriotism was so famous that Hitler's German government included him on the list of considered enemies.\"\n",
    "for sentence in translaor:\n",
    "    input_box = driver.find_element_by_css_selector('#sourceEditArea textarea')        \n",
    "    input_box.clear(); input_box.clear(); input_box.clear(); input_box.clear(); \n",
    "\n",
    "    input_box.send_keys(sentence)\n",
    "\n",
    "    driver.find_element_by_css_selector('#ddTargetLanguageButton').click()\n",
    "    driver.find_element_by_xpath('//*[@id=\"ddTargetLanguage\"]/div[2]/ul/li[1]').click()\n",
    "    driver.find_element_by_css_selector('#btnTranslate').click()\n",
    "\n",
    "    time.sleep(2)\n",
    "\n",
    "    result = str(driver.find_element_by_css_selector(\"#txtTarget\").text)\n",
    "\n",
    "    input_box.clear(); input_box.clear(); input_box.clear(); input_box.clear(); \n",
    "    result_trans.append(result)"
   ]
  },
  {
   "cell_type": "code",
   "execution_count": 53,
   "id": "48ad7489-4db7-4507-a42e-66b2b5f8a740",
   "metadata": {},
   "outputs": [
    {
     "data": {
      "text/plain": [
       "sentence     선거에서 민주당은 해산 전 의석인 230석에 한참 못 미치는 57석(지역구 27석,...\n",
       "entity_01                                                  민주당\n",
       "entity_02                                                  27석\n",
       "label                                                        0\n",
       "Name: 1, dtype: object"
      ]
     },
     "execution_count": 53,
     "metadata": {},
     "output_type": "execute_result"
    }
   ],
   "source": []
  },
  {
   "cell_type": "code",
   "execution_count": 56,
   "id": "cfa93fbe-1c91-4dbd-9c64-5bfee15e0d65",
   "metadata": {
    "tags": []
   },
   "outputs": [
    {
     "ename": "NameError",
     "evalue": "name 'result_trans' is not defined",
     "output_type": "error",
     "traceback": [
      "\u001b[0;31m---------------------------------------------------------------------------\u001b[0m",
      "\u001b[0;31mNameError\u001b[0m                                 Traceback (most recent call last)",
      "\u001b[0;32m<ipython-input-56-f72d1eec4698>\u001b[0m in \u001b[0;36m<module>\u001b[0;34m\u001b[0m\n\u001b[1;32m      1\u001b[0m \u001b[0;32mfor\u001b[0m \u001b[0mi\u001b[0m \u001b[0;32min\u001b[0m \u001b[0mrange\u001b[0m\u001b[0;34m(\u001b[0m\u001b[0mlen\u001b[0m\u001b[0;34m(\u001b[0m\u001b[0mdata\u001b[0m\u001b[0;34m)\u001b[0m\u001b[0;34m)\u001b[0m\u001b[0;34m:\u001b[0m\u001b[0;34m\u001b[0m\u001b[0;34m\u001b[0m\u001b[0m\n\u001b[0;32m----> 2\u001b[0;31m     \u001b[0mdata\u001b[0m\u001b[0;34m.\u001b[0m\u001b[0miloc\u001b[0m\u001b[0;34m[\u001b[0m\u001b[0mi\u001b[0m\u001b[0;34m]\u001b[0m\u001b[0;34m[\u001b[0m\u001b[0;34m'sentence'\u001b[0m\u001b[0;34m]\u001b[0m \u001b[0;34m=\u001b[0m \u001b[0mresult_trans\u001b[0m\u001b[0;34m[\u001b[0m\u001b[0mi\u001b[0m\u001b[0;34m]\u001b[0m\u001b[0;34m\u001b[0m\u001b[0;34m\u001b[0m\u001b[0m\n\u001b[0m",
      "\u001b[0;31mNameError\u001b[0m: name 'result_trans' is not defined"
     ]
    }
   ],
   "source": [
    "for i in range(len(data)):\n",
    "    data.iloc[i]['sentence'] = result_trans[i]"
   ]
  },
  {
   "cell_type": "code",
   "execution_count": null,
   "id": "381c63e8-e1d1-4c73-950c-904544aa0b24",
   "metadata": {},
   "outputs": [],
   "source": [
    "\n",
    "\n",
    "class Translator(object):\n",
    "    def __init__(self, train_dir, papago_dir, multiprocessor=1):\n",
    "        self.train_dir = train_dir\n",
    "        self.papago_dir = papago_dir\n",
    "        self.multiprocessor = multiprocessor\n",
    "\n",
    "        manager = Manager()\n",
    "        self.translated = manager.dict()\n",
    "        self.parts = [deepcopy(corpus[ceil(self.n/multiprocessor)*i:ceil(self.n/multiprocessor)*(i+1)]) for i in range(self.multiprocessor)]\n",
    "\n",
    "    def en2kr(self, sentence, driver, time_delay):\n",
    "\n",
    "        input_box = driver.find_element_by_css_selector('#sourceEditArea textarea')\n",
    "        \n",
    "        input_box.clear(); input_box.clear(); input_box.clear(); input_box.clear(); \n",
    "        \n",
    "        input_box.send_keys(sentence)\n",
    "        \n",
    "        driver.find_element_by_css_selector('#ddTargetLanguageButton').click()\n",
    "        driver.find_element_by_xpath_selector('//*[@id=\"ddTargetLanguage\"]/div[2]/ul/li[3]').click()\n",
    "        driver.find_element_by_css_selector('#btnTranslate').click()\n",
    "\n",
    "        time.sleep(time_delay)\n",
    "        \n",
    "        result = str(driver.find_element_by_css_selector(\"#txtTarget\").text)\n",
    "\n",
    "        input_box.clear(); input_box.clear(); input_box.clear(); input_box.clear(); \n",
    "        return result\n",
    "\n",
    "    def translate(self):\n",
    "        pool = Pool(self.multiprocessor)\n",
    "        pool.starmap(self._translate, zip(range(self.multiprocessor), repeat(self.translated)))\n",
    "        pool.close()\n",
    "        pool.join()\n",
    "\n",
    "        self.save_json(self.korean_dir, self.translated._getvalue())\n",
    "        print('file translation completed')\n",
    "\n",
    "    def _translate(self, corpus_number, translated):\n",
    "        corpus = self.parts[corpus_number]\n",
    "\n",
    "        prev_result = result = ''\n",
    "\n",
    "        for idx, sentence in tqdm(enumerate(corpus)):\n",
    "            if idx % 100 == 0:\n",
    "                driver = self.init_driver()\n",
    "                print('driver initialized')\n",
    "            \n",
    "            time_delay = 2\n",
    "            while result == prev_result and time_delay < 10:\n",
    "                if time_delay > 3:\n",
    "                    print(time_delay, result.split('\\n'), sentence.split('\\n'), sep='\\n', end='\\n\\n')\n",
    "                \n",
    "                result = self.en2kr(sentence, driver, time_delay)\n",
    "                time_delay += 1\n",
    "            \n",
    "            prev_result = result\n",
    "\n",
    "            for en, tstd in zip(sentence.split('\\n'), result.split('\\n')):\n",
    "                translated[en.strip()] = tstd.strip()\n",
    "            \n",
    "        if self.multiprocessor > 1:\n",
    "            print(f'processor {corpus_number} completed')\n",
    "        else:\n",
    "            print('translation completed')\n",
    "        return translated\n",
    "    \n",
    "    def load_json(self, json_dir):\n",
    "        with open(json_dir, encoding='UTF8') as f:\n",
    "            json_file = json.load(f)\n",
    "        print(f'{json_dir} loaded')\n",
    "        return json_file\n",
    "    \n",
    "    def save_json(self, save_dir, result_dict):\n",
    "        with open(save_dir,'w', encoding='UTF8') as f:\n",
    "            json.dump(result_dict, f, ensure_ascii=False)\n",
    "    \n",
    "    def load_text(self, text_dir):\n",
    "        with open(text_dir, encoding='UTF8') as f:\n",
    "            text_file = f.readlines()\n",
    "        print(f'{text_dir} loaded')\n",
    "        return text_file\n",
    "\n",
    "    def init_driver(self):\n",
    "\n",
    "        options = webdriver.ChromeOptions()    \n",
    "        options.add_argument('headless')\n",
    "        options.add_argument('--no-sandbox')\n",
    "        options.add_argument('--disable-dev-shm-usage')\n",
    "\n",
    "        options.add_argument(\"user-agent=Mozilla/5.0 (Macintosh; Intel Mac OS X 10_12_6) AppleWebKit/537.36 (KHTML, like Gecko) Chrome/61.0.3163.100 Safari/537.36\")\n",
    "\n",
    "        driver = webdriver.Chrome(executable_path=ChromeDriverManager().install(), chrome_options=options)\n",
    "\n",
    "        driver.implicitly_wait(15)\n",
    "        driver.get('https://papago.naver.com/')\n",
    "\n",
    "        return driver\n",
    "\n",
    "\n",
    "if __name__ == \"__main__\":\n",
    "    print(f\"Start\")\n",
    "    start_time = time.time()\n",
    "    parser = argparse.ArgumentParser(description='Before get started you need read README')\n",
    "\n",
    "    parser.add_argument('--train_dir', type=str, help='directory of train tsv file',\n",
    "                        default='/opt/ml/input/data/train/train.tsv')\n",
    "\n",
    "    parser.add_argument('--result_dir', type=str, help='directory of translated tsv to save',\n",
    "                        default='/opt/ml/input/data/train/papago.tsv')\n",
    "    \n",
    "    parser.add_argument('--multiprocessor', type=int, help='multiprocessor number you want to use',\n",
    "                        default=int(1))                    \n",
    "\n",
    "#     parser.add_argument('--path', type=str, help='type chromedriver\\'s abs dir',\n",
    "#                         default='chromedriver')                    \n",
    "\n",
    "\n",
    "    args = parser.parse_args()\n",
    "    \n",
    "    translator = Translator(args.english_dir, args.kr_json_dir, args.multiprocessor)\n",
    "\n",
    "    translator.translate()\n",
    "    print(f\"Complete translate.\")\n",
    "    print(f'Time consumption : {time.time() - start_time}')"
   ]
  },
  {
   "cell_type": "code",
   "execution_count": null,
   "id": "e864413e-049b-46c9-ab0b-6ae8fba19428",
   "metadata": {},
   "outputs": [],
   "source": []
  }
 ],
 "metadata": {
  "kernelspec": {
   "display_name": "Python 3",
   "language": "python",
   "name": "python3"
  },
  "language_info": {
   "codemirror_mode": {
    "name": "ipython",
    "version": 3
   },
   "file_extension": ".py",
   "mimetype": "text/x-python",
   "name": "python",
   "nbconvert_exporter": "python",
   "pygments_lexer": "ipython3",
   "version": "3.7.7"
  }
 },
 "nbformat": 4,
 "nbformat_minor": 5
}
